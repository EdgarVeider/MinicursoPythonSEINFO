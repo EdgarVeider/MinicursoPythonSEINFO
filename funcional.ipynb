{
 "cells": [
  {
   "attachments": {},
   "cell_type": "markdown",
   "metadata": {},
   "source": [
    "## Python Minicurso Seinfo"
   ]
  },
  {
   "attachments": {},
   "cell_type": "markdown",
   "metadata": {},
   "source": [
    "# Programaçao Funcional"
   ]
  },
  {
   "attachments": {},
   "cell_type": "markdown",
   "metadata": {},
   "source": [
    "##### Multiplica o numero de lista por 3"
   ]
  },
  {
   "cell_type": "code",
   "execution_count": 40,
   "metadata": {},
   "outputs": [
    {
     "name": "stdout",
     "output_type": "stream",
     "text": [
      "[3, 6, 9, 12, 15, 18, 21, 24, 27, 30, 33, 36, 39, 42, 45, 48, 51, 54, 57, 60, 63, 66, 69, 72, 75, 78, 81, 84, 87]\n"
     ]
    }
   ],
   "source": [
    "def vezes3(x):\n",
    "    return x * 3\n",
    "\n",
    "\n",
    "#numeros = [1,2,3,4,5,6,7,8,9]\n",
    "numeros = range(1,30)\n",
    "# nums_v3 = list()\n",
    "# for num in numeros:\n",
    "#     nums_v3.append(vezes3(num))\n",
    "nums_v3 = list(map(vezes3, numeros))  \n",
    "print(nums_v3)\n"
   ]
  },
  {
   "attachments": {},
   "cell_type": "markdown",
   "metadata": {},
   "source": [
    "mesmo codigo acima em uma linha"
   ]
  },
  {
   "cell_type": "code",
   "execution_count": 41,
   "metadata": {},
   "outputs": [
    {
     "name": "stdout",
     "output_type": "stream",
     "text": [
      "[3, 6, 9, 12, 15, 18, 21, 24, 27, 30, 33, 36, 39, 42, 45, 48, 51, 54, 57, 60, 63, 66, 69, 72, 75, 78, 81, 84, 87]\n"
     ]
    }
   ],
   "source": [
    "nums = list(map(lambda x: x * 3, range(1,30)))  \n",
    "print(nums)"
   ]
  },
  {
   "attachments": {},
   "cell_type": "markdown",
   "metadata": {},
   "source": [
    "função funcional melhora ententimento de codigo, otimizações e paralelismo\n",
    "\n",
    "### Map \n",
    "    tem a função de jogar elementos de um elemento iteravel em um função MAP(funcao, iteravel)\n",
    "\n",
    "### Lambda \n",
    "    - declaração de funct em uma linha, tipo arrow funct de Js\n",
    "    - pode criar classe em tempo de execução\n",
    "    \n"
   ]
  },
  {
   "attachments": {},
   "cell_type": "markdown",
   "metadata": {},
   "source": [
    "# Achar os numeros impares de uma lista"
   ]
  },
  {
   "cell_type": "code",
   "execution_count": 42,
   "metadata": {},
   "outputs": [
    {
     "name": "stdout",
     "output_type": "stream",
     "text": [
      "[6, 12, 18, 24, 30, 36, 42, 48, 54, 60, 66, 72, 78, 84]\n"
     ]
    }
   ],
   "source": [
    "pares = filter(lambda x: (x % 2) == 0, nums)\n",
    "print(list(pares))"
   ]
  },
  {
   "attachments": {},
   "cell_type": "markdown",
   "metadata": {},
   "source": [
    "### Filtes\n",
    "    - funcao que faz argumentos logicos e develves os valres em uma lista, faz um if em uma lista\n",
    "    "
   ]
  },
  {
   "cell_type": "code",
   "execution_count": 43,
   "metadata": {},
   "outputs": [
    {
     "name": "stdout",
     "output_type": "stream",
     "text": [
      "[1, 9, 25, 49, 81, 121, 169, 225, 289, 361, 441, 529, 625, 729, 841]\n"
     ]
    }
   ],
   "source": [
    "impares = [x**2 for x in range(1,30) if x % 2 == 1]\n",
    "print(impares)"
   ]
  },
  {
   "attachments": {},
   "cell_type": "markdown",
   "metadata": {},
   "source": [
    "compressão in line primeiro roda o FOR dps a Condicional dps o MAP\n"
   ]
  },
  {
   "attachments": {},
   "cell_type": "markdown",
   "metadata": {},
   "source": [
    "### GERADORES e ITERADORES"
   ]
  },
  {
   "cell_type": "code",
   "execution_count": 44,
   "metadata": {},
   "outputs": [
    {
     "name": "stdout",
     "output_type": "stream",
     "text": [
      "1\n",
      "1\n",
      "2\n",
      "3\n",
      "5\n"
     ]
    }
   ],
   "source": [
    "def fibonacci():\n",
    "    a, b = 0, 1\n",
    "    while True:\n",
    "        yield b\n",
    "        a, b = b, a + b\n",
    "\n",
    "gerador = fibonacci()\n",
    "# for i, item in enumerate(gerador):\n",
    "#     print(item)\n",
    "#     if i == 10:\n",
    "#         break\n",
    "print(next(gerador))\n",
    "print(next(gerador))\n",
    "print(next(gerador))\n",
    "print(next(gerador))\n",
    "print(next(gerador))\n"
   ]
  },
  {
   "attachments": {},
   "cell_type": "markdown",
   "metadata": {},
   "source": [
    "## Sequencia de Fibonacci\n",
    "    - yeld:Cria uma função e a deixa pronta para ser executada, podemos guardar o objeto de contexto em uma variavel como gerador, e usar tanto uma laço de repetição para rodala como a função next\n",
    "\n",
    "    -Next: faz uma unica iteração de acordo com a necessidade"
   ]
  },
  {
   "attachments": {},
   "cell_type": "markdown",
   "metadata": {},
   "source": [
    "# Decorators"
   ]
  },
  {
   "cell_type": "code",
   "execution_count": 45,
   "metadata": {},
   "outputs": [
    {
     "name": "stdout",
     "output_type": "stream",
     "text": [
      "codigo executalvel antes da funcao\n",
      "minha função o funcionamento do decorator!\n",
      "o codigo depois da funcao\n"
     ]
    }
   ],
   "source": [
    "def perfumaria(func):\n",
    "    def wrapper(*args, **kwargs): \n",
    "        print(\"codigo executalvel antes da funcao\")\n",
    "        res = func(*args, **kwargs)\n",
    "        print('o codigo depois da funcao')\n",
    "        return res\n",
    "    return wrapper\n",
    "\n",
    "@perfumaria\n",
    "def minha_função(var):\n",
    "    print(f'minha função {var}!')\n",
    "\n",
    "minha_função(\"o funcionamento do decorator\")"
   ]
  },
  {
   "cell_type": "code",
   "execution_count": 46,
   "metadata": {},
   "outputs": [
    {
     "name": "stdout",
     "output_type": "stream",
     "text": [
      "var1\n",
      "bar2\n",
      "(1, 'string', 4.5)\n",
      "{'r': 10, 's': 'a'}\n"
     ]
    }
   ],
   "source": [
    "def teste(a,b=10,*c, **d): #c é uma tupla, e d é um dicionario\n",
    "    print(a)\n",
    "    print(b)\n",
    "    print(c)\n",
    "    print(d)\n",
    "\n",
    "\n",
    "teste('var1', 'bar2', 1, \"string\", 4.5, r=10, s=\"a\")"
   ]
  },
  {
   "attachments": {},
   "cell_type": "markdown",
   "metadata": {},
   "source": [
    "criação de docoradores é util para modificar uma função sem causar erros "
   ]
  },
  {
   "attachments": {},
   "cell_type": "markdown",
   "metadata": {},
   "source": [
    "# Programação Assincrona"
   ]
  },
  {
   "attachments": {},
   "cell_type": "markdown",
   "metadata": {},
   "source": [
    "asyncio, não usa thread e sim rapido chaveamento de contexto    "
   ]
  },
  {
   "cell_type": "code",
   "execution_count": 52,
   "metadata": {},
   "outputs": [
    {
     "name": "stdout",
     "output_type": "stream",
     "text": [
      "antes...\n",
      "depois\n",
      "antes...\n",
      "depois\n",
      "antes...\n",
      "depois\n",
      "Executou em 6.006300 segundos\n"
     ]
    }
   ],
   "source": [
    "import asyncio\n",
    "from time import perf_counter, sleep\n",
    "\n",
    "async def count():\n",
    "    print(\"antes...\")\n",
    "    sleep(2)\n",
    "    print(\"depois\")\n",
    "\n",
    "def main():\n",
    "\n",
    "    asyncio.gather(count(), count(), count())\n",
    "\n",
    "\n",
    "if __name__ == '__main__':\n",
    "    a = perf_counter()\n",
    "    main()\n",
    "    tempo = perf_counter() - a\n",
    "    print(f'Executou em {tempo:0.6f} segundos')"
   ]
  },
  {
   "cell_type": "code",
   "execution_count": 47,
   "metadata": {},
   "outputs": [
    {
     "name": "stdout",
     "output_type": "stream",
     "text": [
      "__main__\n"
     ]
    }
   ],
   "source": [
    "print(__name__)"
   ]
  },
  {
   "attachments": {},
   "cell_type": "markdown",
   "metadata": {},
   "source": [
    "__name__ retorna o ambiente atual, variaveis padrao do python"
   ]
  }
 ],
 "metadata": {
  "kernelspec": {
   "display_name": "Python 3",
   "language": "python",
   "name": "python3"
  },
  "language_info": {
   "codemirror_mode": {
    "name": "ipython",
    "version": 3
   },
   "file_extension": ".py",
   "mimetype": "text/x-python",
   "name": "python",
   "nbconvert_exporter": "python",
   "pygments_lexer": "ipython3",
   "version": "3.10.6"
  },
  "orig_nbformat": 4,
  "vscode": {
   "interpreter": {
    "hash": "e7370f93d1d0cde622a1f8e1c04877d8463912d04d973331ad4851f04de6915a"
   }
  }
 },
 "nbformat": 4,
 "nbformat_minor": 2
}
